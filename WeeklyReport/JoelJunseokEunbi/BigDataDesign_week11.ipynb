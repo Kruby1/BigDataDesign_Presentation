{
  "cells": [
    {
      "cell_type": "markdown",
      "metadata": {
        "id": "6A_4oBw_79fZ"
      },
      "source": [
        "# Weekly Report\n",
        "- Team members: 21700356 Junsuk Seo, 21700397 Joel Shin, 22000724 Eunbi Cho\n",
        "- Meeting Date: 230512\n",
        "- Project Name: The 2nd Yeongcheon City Open Data Utilization Contest\n",
        "- Project Goal: First Prize"
      ]
    },
    {
      "cell_type": "markdown",
      "metadata": {
        "id": "HqJMCex679fd"
      },
      "source": [
        "### Weekly plan\n",
        "\n",
        "| **Week** | **Schedule**              | **Note**                         |\n",
        "|----------|---------------------------|----------------------------------|\n",
        "| Week 9   | Choose a contest topic    | Seo: Collecting data             |\n",
        "|          | Collect relevant data     | Shin: Organize project direction |\n",
        "|          |                           | Cho: Define the problem          |\n",
        "| Week 10  |Additional data collection| Seo: Additional data collection  |\n",
        "|          | Current data check up- information collection| Shin: Data EDA|\n",
        "|          |EDA with collected data    | Cho: Information on pumping stations|\n",
        "| Week 11  | GEO Data Finalization     | Seo: Farm-map Geo data crawling|\n",
        "|          | Pumping station domain search| Shin:Farm-map Geo data crawling|\n",
        "|          |                           | Cho: Pumping station domain variable|\n",
        "| Week 12  |EDA Completion             | Seo:                             |\n",
        "|          |Set analysis methodology   | Shin:                            |\n",
        "|          |                           | Cho:                             |\n",
        "| Week 13  |Modeling                   | Seo:                             |\n",
        "|          |                           | Shin:                            |\n",
        "|          |                           | Cho:                             |\n",
        "| Week 14  |Revision of the project    | Seo:                             |\n",
        "|          |Derivation of solution     | Shin:                            |\n",
        "|          |                           | Cho:                             |\n",
        "| Week 15  |Final Preparation          | Seo:                             |\n",
        "|          |                           | Shin:                            |\n",
        "|          |                           | Cho:                             |\n",
        "| Week 16  |Final In-Class Presentation| Seo:                             |\n",
        "|          |Project Submission         | Shin:                            |\n",
        "|          |                           | Cho:                             |\n"
      ]
    },
    {
      "cell_type": "markdown",
      "metadata": {
        "id": "RFkqziUD79fe"
      },
      "source": [
        "### Summary of previous meeting\n",
        "- Previous discussion: Preliminary EDA, collected data discussion\n",
        "- Comments from Professor: \n",
        "1. Email for required data- use, variables etc. \n",
        "- Previous plan: \n",
        "1. Devise collection macros and systems for Geo API data.\n",
        "2. Pumping station domain research"
      ]
    },
    {
      "cell_type": "markdown",
      "metadata": {
        "id": "cvulJmA479fe"
      },
      "source": [
        "### Summary of working progress\n",
        "- Level of progress in weekly plan: \n",
        "- Progress 1: 100%-> Farm map data completed for usage\n",
        "- Progress 2: 100%-> Consideration of pumping station variables"
      ]
    },
    {
      "cell_type": "markdown",
      "metadata": {
        "id": "10MFGPSQ79ff"
      },
      "source": [
        "### Pending assignments or requests\n",
        "- pending assingments: EDA with Geo data, Finalize analysis methodology\n",
        "- requests:"
      ]
    }
  ],
  "metadata": {
    "language_info": {
      "name": "python"
    },
    "orig_nbformat": 4,
    "colab": {
      "provenance": []
    },
    "kernelspec": {
      "name": "python3",
      "display_name": "Python 3"
    },
    "gpuClass": "standard"
  },
  "nbformat": 4,
  "nbformat_minor": 0
}