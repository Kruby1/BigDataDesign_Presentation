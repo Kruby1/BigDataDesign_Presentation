{
 "cells": [
  {
   "cell_type": "code",
   "execution_count": 2,
   "metadata": {},
   "outputs": [],
   "source": [
    "import tensorflow as tf"
   ]
  },
  {
   "attachments": {},
   "cell_type": "markdown",
   "metadata": {},
   "source": [
    "# My first Python notebook"
   ]
  }
 ],
 "metadata": {
  "kernelspec": {
   "display_name": "[Python]",
   "language": "python",
   "name": "python3"
  },
  "language_info": {
   "codemirror_mode": {
    "name": "ipython",
    "version": 3
   },
   "file_extension": ".py",
   "mimetype": "text/x-python",
   "name": "python",
   "nbconvert_exporter": "python",
   "pygments_lexer": "ipython3",
   "version": "3.9.13"
  },
  "orig_nbformat": 4,
  "vscode": {
   "interpreter": {
    "hash": "b3866ee36f95caf8aac18060963705b9839ba1902659753fe8b75b8651205d44"
   }
  }
 },
 "nbformat": 4,
 "nbformat_minor": 2
}
