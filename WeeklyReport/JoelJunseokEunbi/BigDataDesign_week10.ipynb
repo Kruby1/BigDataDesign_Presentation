{
  "cells": [
    {
      "cell_type": "markdown",
      "metadata": {
        "id": "6A_4oBw_79fZ"
      },
      "source": [
        "# Weekly Report\n",
        "- Team members: 21700356 Junsuk Seo, 21700397 Joel Shin, 22000724 Eunbi Cho\n",
        "- Meeting Date: 230504\n",
        "- Project Name: The 2nd Yeongcheon City Open Data Utilization Contest\n",
        "- Project Goal: First Prize"
      ]
    },
    {
      "cell_type": "markdown",
      "metadata": {
        "id": "HqJMCex679fd"
      },
      "source": [
        "### Weekly plan\n",
        "\n",
        "| **Week** | **Schedule**              | **Note**                         |\n",
        "|----------|---------------------------|----------------------------------|\n",
        "| Week 9   | Choose a contest topic    | Seo: Collecting data             |\n",
        "|          | Collect relevant data     | Shin: Organize project direction |\n",
        "|          |                           | Cho: Define the problem          |\n",
        "| Week 10  | \bAdditional data collection| Seo: Additional data collection  |\n",
        "|          | Current data check up- information collection| Shin: Data EDA|\n",
        "|          |EDA with collected data    | Cho: Information on pumping stations|\n",
        "| Week 11  | GEO Data Finalization     | Seo:                             |\n",
        "|          | Pumping station variable data collection| Shin:              |\n",
        "|          |                           | Cho:                             |\n",
        "| Week 12  |EDA Completion             | Seo:                             |\n",
        "|          |Set analysis methodology   | Shin:                            |\n",
        "|          |                           | Cho:                             |\n",
        "| Week 13  |Modeling                   | Seo:                             |\n",
        "|          |                           | Shin:                            |\n",
        "|          |                           | Cho:                             |\n",
        "| Week 14  |Revision of the project    | Seo:                             |\n",
        "|          |Derivation of solution     | Shin:                            |\n",
        "|          |                           | Cho:                             |\n",
        "| Week 15  |Final Preparation          | Seo:                             |\n",
        "|          |                           | Shin:                            |\n",
        "|          |                           | Cho:                             |\n",
        "| Week 16  |Final In-Class Presentation| Seo:                             |\n",
        "|          |Project Submission         | Shin:                            |\n",
        "|          |                           | Cho:                             |\n"
      ]
    },
    {
      "cell_type": "markdown",
      "metadata": {
        "id": "RFkqziUD79fe"
      },
      "source": [
        "### Summary of previous meeting\n",
        "- Previous discussion: Topic selection, preliminary data collection\n",
        "- Comments from Professor: \n",
        "1. Need specific and detailed usage of current dataset.\n",
        "2. Try extracting lat, long coordinates with the address information of the dataset. \n",
        "- Previous plan: \n",
        "1. EDA of current data.\n",
        "2. Collect background information for setting up a new pumping station. (Call local managing stations)/ Request for latitude longitude information.\n",
        "3. Collect additional data for selecting a station location, such as drought data of the 7 selected regions."
      ]
    },
    {
      "cell_type": "markdown",
      "metadata": {
        "id": "cvulJmA479fe"
      },
      "source": [
        "### Summary of working progress\n",
        "- Level of progress in weekly plan: 100 % completed or 50 % completed.\n",
        "- Progress 1: 100%-> EDA Markdown file attached\n",
        "- Progress 2: 90%-> Limited information, some not picking up phone\n",
        "- Progress 3: 100%-> Population, Dam, Weather, Factory data"
      ]
    },
    {
      "cell_type": "markdown",
      "metadata": {
        "id": "10MFGPSQ79ff"
      },
      "source": [
        "### Pending assignments or requests\n",
        "- pending assingments: Devise collection macros and systems for Geo API data.\n",
        "- requests:"
      ]
    }
  ],
  "metadata": {
    "language_info": {
      "name": "python"
    },
    "orig_nbformat": 4,
    "colab": {
      "provenance": []
    },
    "kernelspec": {
      "name": "python3",
      "display_name": "Python 3"
    },
    "gpuClass": "standard"
  },
  "nbformat": 4,
  "nbformat_minor": 0
}