{
  "cells": [
    {
      "cell_type": "markdown",
      "metadata": {
        "id": "6A_4oBw_79fZ"
      },
      "source": [
        "# Weekly Report\n",
        "- Team members: 21700356 Junsuk Seo, 21700397 Joel Shin, 22000724 Eunbi Cho\n",
        "- Meeting Date: 230517\n",
        "- Project Name: The 2nd Yeongcheon City Open Data Utilization Contest\n",
        "- Project Goal: First Prize"
      ]
    },
    {
      "cell_type": "markdown",
      "metadata": {
        "id": "HqJMCex679fd"
      },
      "source": [
        "### Weekly plan\n",
        "\n",
        "| **Week** | **Schedule**              | **Note**                         |\n",
        "|----------|---------------------------|----------------------------------|\n",
        "| Week 9   | Choose a contest topic    | Seo: Collecting data             |\n",
        "|          | Collect relevant data     | Shin: Organize project direction |\n",
        "|          |                           | Cho: Define the problem          |\n",
        "| Week 10  |Additional data collection| Seo: Additional data collection  |\n",
        "|          | Current data check up- information collection| Shin: Data EDA|\n",
        "|          |EDA with collected data    | Cho: Information on pumping stations|\n",
        "| Week 11  | GEO Data Finalization     | Seo: Farm-map Geo data crawling|\n",
        "|          | Pumping station domain search| Shin:Farm-map Geo data crawling|\n",
        "|          |                           | Cho: Pumping station domain variable|\n",
        "| Week 12  |EDA Completion             | Seo:Set analysis methodology     |\n",
        "|          |Set analysis methodology   | Shin:Set analysis methodology    |\n",
        "|          |                           | Cho:Set analysis methodology     |\n",
        "| Week 13  |Modeling                   | Seo:                             |\n",
        "|          |                           | Shin:                            |\n",
        "|          |                           | Cho:                             |\n",
        "| Week 14  |Revision of the project    | Seo:                             |\n",
        "|          |Derivation of solution     | Shin:                            |\n",
        "|          |                           | Cho:                             |\n",
        "| Week 15  |Final Preparation          | Seo:                             |\n",
        "|          |                           | Shin:                            |\n",
        "|          |                           | Cho:                             |\n",
        "| Week 16  |Final In-Class Presentation| Seo:                             |\n",
        "|          |Project Submission         | Shin:                            |\n",
        "|          |                           | Cho:                             |\n"
      ]
    },
    {
      "cell_type": "markdown",
      "metadata": {
        "id": "RFkqziUD79fe"
      },
      "source": [
        "### Summary of previous meeting\n",
        "- Previous discussion: GEO data discussion, pumping station domain research\n",
        "- Comments from Professor: \n",
        "1. Validate Geo data\n",
        "2. Summarize current status for further request from other professors\n",
        "- Previous plan: \n",
        "1. Pick and validate geo data points\n",
        "2. Clustering with current data\n",
        "3. Provide modeling methodology for analysis"
      ]
    },
    {
      "cell_type": "markdown",
      "metadata": {
        "id": "cvulJmA479fe"
      },
      "source": [
        "### Summary of working progress\n",
        "- Level of progress in weekly plan: \n",
        "- Progress 1: 100%\n",
        "- Progress 2: 100%\n",
        "- Progress 3: 100%"
      ]
    },
    {
      "cell_type": "markdown",
      "metadata": {
        "id": "10MFGPSQ79ff"
      },
      "source": [
        "### Pending assignments or requests\n",
        "- pending assingments: methodology discussion\n",
        "- requests:"
      ]
    }
  ],
  "metadata": {
    "language_info": {
      "name": "python"
    },
    "orig_nbformat": 4,
    "colab": {
      "provenance": []
    },
    "kernelspec": {
      "name": "python3",
      "display_name": "Python 3"
    },
    "gpuClass": "standard"
  },
  "nbformat": 4,
  "nbformat_minor": 0
}