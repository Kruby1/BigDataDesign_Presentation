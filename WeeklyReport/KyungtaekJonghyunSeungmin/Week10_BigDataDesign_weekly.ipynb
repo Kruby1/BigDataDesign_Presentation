{
 "cells": [
  {
   "attachments": {},
   "cell_type": "markdown",
   "metadata": {},
   "source": [
    "# Weekly Report\n",
    "- Team members: 21700442 오경택, 21700741 최종현 22000624 장승민\n",
    "- Meeting Date: 230428 \n",
    "- Project Name: 공용자전거 대여 데이터를 기반으로한 서울시 신설 최적의 자전거도로 입지 제안\n",
    "- Project Goal: 신설 자전거도로가 기존의 자전거도로 대비 혼잡도 감소 및 사용자율 증가"
   ]
  },
  {
   "attachments": {},
   "cell_type": "markdown",
   "metadata": {},
   "source": [
    "### Weekly plan (Fill this in)\n",
    "\n",
    "| Week    | Schedule        | Note                      |\n",
    "|---------|-----------------|---------------------------|\n",
    "| Week 9  | 주제 선정 및 파이프라인 디자인 | 오경택: 개체명 인식 적합 모델 선정,  <br> 최종현: AWS_management_console로 스크립트 추출 및 정확도 비교, <br> 장승민:youtube_summary_with_chatGPT로 스크립트 추출 및 정확도 비교 |\n",
    "| Week 10 |  서울시 자전거 도로 필요한 이유 조사, 필요한 데이터 수집 및 자전거 이용에 영향을 주는 변수들 시각화 | 경택: 김정현 교수님 컨택 및 이용자 데이터 분석<br> 종현: 서울시 자전거 도로 필요한 이유 조사, 아이디어 구체화 <br> 승민:   자전거 이용에 영향을 주는 변수들 시각화        |\n",
    "| Week 11 |  서울시 자전거 이용패턴 분석, 자전거 도로 입지에 사용할 ML 기법 조사, 자전거 이용에 영향을 주는 파생변수 선정 |                           |\n",
    "| Week 12 |  서울시 자전거 이용패턴 분석, 자전거 도로 입지에 사용할 ML 기법 조사, 자전거 이용에 영향을 주는 파생변수 선정 |                           |\n",
    "| Week 13 |  자전거 도로 입지에 사용할 ML 기법 조사 및 적용, 서울시 자전거 이용패턴 분석 |                           |\n",
    "| Week 14 |  자전거 도로 입지에 사용할 ML 기법 조사 및 적용, 서울시 자전거 이용패턴 분석 |                           |\n",
    "| Week 15 |  발표 준비 및 최종 점검       |                           |\n",
    "| Week 16 |                 |                           |\n",
    "\n"
   ]
  },
  {
   "attachments": {},
   "cell_type": "markdown",
   "metadata": {},
   "source": [
    "### Summary of previous meeting\n",
    "- Previous discussion:\n",
    "  - 공영 방송 혹은 유투브의 지역 홍보 효과에 대한 주제에서 자전거 도로 입지 최적화에 대한 주제로 바꿈.\n",
    "  - 공공 자전거 데이터를 이용하여 자전거 도로의 수요가 많은 곳에 입지를 제안.\n",
    "- Comments from :\n",
    "  - 서울시 자전거 도로 입지가 필요한 이유 제시할 것을 강조하심.\n",
    "- Previous plan:\n",
    "  - 서울시 자전거 도로가 필요한 이유 조사\n",
    "  - 필요한 데이터 수집 및 자전거 이용에 영향을 주는 변수들 시각화\n",
    "  - 서울시 자전거 이용패턴 분석"
   ]
  },
  {
   "attachments": {},
   "cell_type": "markdown",
   "metadata": {},
   "source": [
    "### Summary of working progress\n",
    "process 1: 서울시 자전거 도로가 필요한 이유 조사\n",
    "  - 서울시 공공 자전거 이용 수가 년에 따라 꾸준히 늘고 있어 자전거 도로에 대한 수요가 꾸준히 늘고 있다. (서울시 자전거 이용패턴을 분석하면서 이 수요에 대해 깊게 분석할 예정)<br><br>\n",
    "  - 자전거 도로 개설이 자전거 사고의 수를 줄인다는 증거를 찾음. -> 자전거 사고 다발지역에 자전거 도로 입지를 제안.\n",
    "       1. 년도별 자전거 도로의 수와 자전거 사고 횟수를 비교한 결과, 자전거 도로를 많이 개설한 다음 년도에 자전거 사고 횟수가 줄어드는 것을 확인.<br>\n",
    "       2. 자전거 도로 & 비자전거 도로에서 일어나는 자전거 사고 수를 비교한 결과 비자전거 도로에서 일어나는 자전거 사고 수가 확연히 적은 것을 확인\n",
    "\n",
    "process 2: 데이터 시각화\n",
    "- 자전거 도로 개설에 영향을 줄 수 있는 변수 시각화\n",
    "    1. 행정구별 자전거 대여소<br>\n",
    "        <figure>\n",
    "          <img src=\"행정구별_자전거 대여소.png\"/>\n",
    "          <figcaption><center>Figure 1. 행정구별 자전거 대여소 개수 카토그램</center></figcaption>\n",
    "        </figure> <br>\n",
    "\n",
    "    2. 행정구별 주거시설 개수<br>\n",
    "        <figure>\n",
    "          <img src=\"행정구별_주거시설.png\"/>\n",
    "          <figcaption><center>Figure 2. 행정구별 주거시설 개수 카토그램</center></figcaption>\n",
    "        </figure> <br>\n",
    "\n",
    "    3. 행정구별 교육시설 개수<br>\n",
    "        <figure>\n",
    "          <img src=\"행정구별_학교.png\"/>\n",
    "          <figcaption><center>Figure 3. 행정구별 교육시설 개수 카토그램</center></figcaption>\n",
    "        </figure> <br>\n",
    "\n",
    "    4. 행정구별 문화시설 개수<br>\n",
    "        <figure>\n",
    "          <img src=\"행정구별_문화시설.png\"/>\n",
    "          <figcaption><center>Figure 4. 행정구별 문화시설 개수 카토그램</center></figcaption>\n",
    "        </figure> <br>\n",
    "\n",
    "- 서울시 자전거 도로 위치 시각화\n",
    "    1. 구로구 자전거 도로<br>\n",
    "        <figure>\n",
    "          <img src=\"구로구_자전거도로.png\"/>\n",
    "          <figcaption><center>Figure 5. 구로구 자전거도로</center></figcaption>\n",
    "        </figure> <br>\n",
    "\n",
    "    2. 양천구 자전거 도로<br>\n",
    "        <figure>\n",
    "          <img src=\"양천구_자전거도로.png\"/>\n",
    "          <figcaption><center>Figure 6. 양천구 자전거도로</center></figcaption>\n",
    "        </figure> <br>"
   ]
  },
  {
   "attachments": {},
   "cell_type": "markdown",
   "metadata": {},
   "source": [
    "### Pending assignments or requests\n",
    "- pending assingments: \n",
    "- requests: 서울시 공공 자전거 이용자들의 개개인의 출발 거치소와 도착 거치소의 위치 정보 데이터를 이용해서, machine learning 기법을 통해 자전거 교통량이 많은 도로의 정보를 뽑아내고 싶다. -> 김정현 교수님께 부탁\n",
    "* 활용할 데이터\n",
    "    1. 서울시 공공 자전거 이용자들의 개개인의 출발 거치소와 도착 거치소의 위치 정보 데이터\n",
    "    2. 서울시 공공 자전거 대여소별 대여건수와 반납건수 데이터"
   ]
  },
  {
   "cell_type": "markdown",
   "metadata": {},
   "source": []
  }
 ],
 "metadata": {
  "language_info": {
   "name": "python"
  },
  "orig_nbformat": 4
 },
 "nbformat": 4,
 "nbformat_minor": 2
}
