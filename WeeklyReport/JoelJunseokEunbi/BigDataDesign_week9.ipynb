{
  "cells": [
    {
      "cell_type": "markdown",
      "metadata": {
        "id": "6A_4oBw_79fZ"
      },
      "source": [
        "# Weekly Report\n",
        "- Team members: 21700356 Junsuk Seo, 21700397 Joel Shin, 22000724 Eunbi Cho\n",
        "- Meeting Date: 230504\n",
        "- Project Name: The 2nd Yeongcheon City Open Data Utilization Contest\n",
        "- Project Goal: First Prize"
      ]
    },
    {
      "cell_type": "markdown",
      "metadata": {
        "id": "HqJMCex679fd"
      },
      "source": [
        "### Weekly plan\n",
        "\n",
        "| **Week** | **Schedule**              | **Note**                         |\n",
        "|----------|---------------------------|----------------------------------|\n",
        "| Week 9   | Choose a contest topic    | Seo: Collecting data             |\n",
        "|          | Collect relevant data     | Shin: Organize project direction |\n",
        "|          |                           | Cho: Define the problem          |\n",
        "| Week 10  | \bAdditional data collection| Seo:                             |\n",
        "|          | Current data check up- information collection| Shin:         |\n",
        "|          |EDA with collected data    | Cho:                             |\n",
        "| Week 11  | GEO Data Finalization     | Seo:                             |\n",
        "|          | Pumping station variable data collection| Shin:              |\n",
        "|          |                           | Cho:                             |\n",
        "| Week 12  |EDA Completion             | Seo:                             |\n",
        "|          |Set analysis methodology   | Shin:                            |\n",
        "|          |                           | Cho:                             |\n",
        "| Week 13  |Modeling                   | Seo:                             |\n",
        "|          |                           | Shin:                            |\n",
        "|          |                           | Cho:                             |\n",
        "| Week 14  |Revision of the project    | Seo:                             |\n",
        "|          |Derivation of solution     | Shin:                            |\n",
        "|          |                           | Cho:                             |\n",
        "| Week 15  |Final Preparation          | Seo:                             |\n",
        "|          |                           | Shin:                            |\n",
        "|          |                           | Cho:                             |\n",
        "| Week 16  |Final In-Class Presentation| Seo:                             |\n",
        "|          |Project Submission         | Shin:                            |\n",
        "|          |                           | Cho:                             |\n"
      ]
    },
    {
      "cell_type": "markdown",
      "metadata": {
        "id": "RFkqziUD79fe"
      },
      "source": [
        "### Summary of previous meeting\n",
        "- Previous discussion: Contest selection, Topic \bdiscussion\n",
        "- Comments from Professor: \n",
        "1. Go with initial topic idea of selection of water location \n",
        "2. Collect related data to specify the topic \n",
        "- Previous plan: \n",
        "1. Topic finalization\n",
        "2. Related data search"
      ]
    },
    {
      "cell_type": "markdown",
      "metadata": {
        "id": "cvulJmA479fe"
      },
      "source": [
        "### Summary of working progress\n",
        "- Level of progress in weekly plan: 100 % completed or 50 % completed.\n",
        "- Progress 1: 100%\n",
        "- Progress 2: 100%"
      ]
    },
    {
      "cell_type": "markdown",
      "metadata": {
        "id": "10MFGPSQ79ff"
      },
      "source": [
        "### Pending assignments or requests\n",
        "- pending assingments: \bRequst geographical data for current dataset.\n",
        "- requests:"
      ]
    }
  ],
  "metadata": {
    "language_info": {
      "name": "python"
    },
    "orig_nbformat": 4,
    "colab": {
      "provenance": []
    },
    "kernelspec": {
      "name": "python3",
      "display_name": "Python 3"
    },
    "gpuClass": "standard"
  },
  "nbformat": 4,
  "nbformat_minor": 0
}