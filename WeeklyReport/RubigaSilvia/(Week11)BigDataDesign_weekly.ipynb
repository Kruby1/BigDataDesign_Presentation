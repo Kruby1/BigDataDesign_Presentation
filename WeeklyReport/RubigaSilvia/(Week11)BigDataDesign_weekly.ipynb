{
 "cells": [
  {
   "cell_type": "markdown",
   "metadata": {},
   "source": [
    "# Weekly Report\n",
    "- Team members: 21900086 Kim Rubiga, 22220036 Silvia Garces\n",
    "- Meeting Date: 01052023 \n",
    "- Project Name: CAFA5 Protein Function Prediction\n",
    "- Project Goal: Developing a model to predict the function of proteins by annotating them with GO terms. "
   ]
  },
  {
   "cell_type": "markdown",
   "metadata": {},
   "source": [
    "### Weekly plan (Fill this in)\n",
    "\n",
    "| Week    | Schedule              | Note                                            |\n",
    "|---------|-----------------------|-------------------------------------------------|\n",
    "| Week 9  | Data Analysis         | Focus on understanding data                     |\n",
    "| Week 10 | Finding Novelty       | Basic EDA to know which approach we would use    |\n",
    "| Week 11 | Complete EDA          | To complete EDA and data exploration to know what model we will proceed with|\n",
    "| Week 12 | Search reference scientific articles | To find related articles for validity of our data|\n",
    "| Week 13 | Start working on the proposal | Getting to understand how overleaf works     |\n",
    "| Week 14 | Complete on proposal draft   |  Getting comments from professor on the draft |\n",
    "| Week 15 | Fixing the proposal draft and code | Goal is to finish at least 95% of the progress|\n",
    "| Week 16 | Final comments on the research proposal and finishing touches | Editing based on the final comments|\n",
    "\n",
    "\n"
   ]
  },
  {
   "cell_type": "markdown",
   "metadata": {},
   "source": [
    "### Summary of previous meeting\n",
    "- Previous discussion: Novelty of project and what we are trying to do with our project. \n",
    "- Comments from Professor: To begin with EDA because of the deadline for the project. Competition: what we are trying to do and EDA\n",
    "- Previous plan: How are other teams doing, telling him our novelty, how are we going to check the performance? (References) "
   ]
  },
  {
   "cell_type": "markdown",
   "metadata": {},
   "source": [
    "### Summary of working progress\n",
    "- Level of progress in weekly plan: 100 % completed or 50 % completed.\n",
    "- Progress 1(Week 9): 5%\n",
    "- Progress 2(Week 10): 15% \n",
    "- Progress 3(Week 11): 80%\n"
   ]
  },
  {
   "cell_type": "markdown",
   "metadata": {},
   "source": [
    "### Pending assignments or requests\n",
    "Week 10\n",
    "- pending assingments: Completion of EDA\n",
    "- requests: Dimension reduction tips\n",
    "\n",
    "Week 11\n",
    "- pending assignments: - \n",
    "- requests: Server and regarding data significance aspect\n",
    "\n"
   ]
  },
  {
   "cell_type": "markdown",
   "metadata": {},
   "source": [
    "### Project Comments"
   ]
  },
  {
   "cell_type": "markdown",
   "metadata": {},
   "source": [
    "# Week 10"
   ]
  },
  {
   "cell_type": "markdown",
   "metadata": {},
   "source": [
    "- What other projects lack --> Good visualization \n",
    "- Comments by professor: remeasure and see how many taxonomy occurs the most, removing duplicates"
   ]
  },
  {
   "cell_type": "markdown",
   "metadata": {},
   "source": [
    "# Week 11\n",
    "- All the proteins have an assigned taxonomy which is unique, then for each protein there are several GO terms to consider. We focused on keeping the proteins whose taxanomy is more frequent such as the human taxanomy. \n",
    "- We selected the 10 most frequent taxanomies, keeping 100 000 proteins out of 140 000\n",
    "- Further work will include selecting different GO terms by checking which ones are the most frequent\n"
   ]
  },
  {
   "cell_type": "code",
   "execution_count": null,
   "metadata": {},
   "outputs": [],
   "source": []
  }
 ],
 "metadata": {
  "kernelspec": {
   "display_name": "Python 3 (ipykernel)",
   "language": "python",
   "name": "python3"
  },
  "language_info": {
   "codemirror_mode": {
    "name": "ipython",
    "version": 3
   },
   "file_extension": ".py",
   "mimetype": "text/x-python",
   "name": "python",
   "nbconvert_exporter": "python",
   "pygments_lexer": "ipython3",
   "version": "3.9.7"
  }
 },
 "nbformat": 4,
 "nbformat_minor": 4
}
